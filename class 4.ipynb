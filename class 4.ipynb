{
 "cells": [
  {
   "cell_type": "code",
   "execution_count": 14,
   "id": "95fec294",
   "metadata": {},
   "outputs": [],
   "source": [
    "class Node:\n",
    "    \"\"\"This does 2 things:\n",
    "    1. Stores some data\n",
    "    2. points to the next node in sequence.\n",
    "    \"\"\"\n",
    "    def __init__(self, data):\n",
    "        self.data = data\n",
    "        self.next = None\n",
    "        \n",
    "    def __repr__(self):\n",
    "        return \"< Node %r\""
   ]
  },
  {
   "cell_type": "code",
   "execution_count": 21,
   "id": "7f71e185",
   "metadata": {},
   "outputs": [],
   "source": [
    "class LinkedList:\n",
    "    \"\"\"\n",
    "        This class maintains the reference to the \n",
    "        HEAD or BEGINNING of our list.\n",
    "    \"\"\"\n",
    "    def __init__(self):\n",
    "        self.head = None\n",
    "        \n",
    "    def append(self, data):\n",
    "        if not self.head:\n",
    "            self.head = Node(data)\n",
    "            print(\"Added (HEAD): %s\" %  self.head)\n",
    "        else:\n",
    "            tail = self.find_tail()    # First: find tail (tail is a node that points to none)\n",
    "            tail.next = Node(data)\n",
    "            print(\"Added (BODY): %s\" % tail.next) # Set tail.next (attribute)\n",
    "            \n",
    "    def prepend(self, data):\n",
    "        new_node = Node(data)\n",
    "        new_node.next = self.head\n",
    "        self.head = new_node\n",
    "            \n",
    "    def insert(self, position, data):\n",
    "        node_at_index = self_get_node_at.index(position)\n",
    "        current_next_node = node_at_index.next\n",
    "        new_node = Node(data)\n",
    "        node_at_index.next = new_node\n",
    "        new_node.next = current_next_node\n",
    "            \n",
    "    def get_node_at_index(self, target):\n",
    "        current = self.head\n",
    "        counter = 0\n",
    "        while current:\n",
    "            if counter == target:\n",
    "                return current\n",
    "            current = current.next\n",
    "            counter += 1\n",
    "        raise IndexError(\"Index Out of Bounds\")\n",
    "        \n",
    "    def index(self, value):\n",
    "        current = self.head\n",
    "        counter = 0\n",
    "        while counter:\n",
    "            if current.data == value:\n",
    "                return current\n",
    "            current = current.next\n",
    "            counter += 1\n",
    "        raise ValueError(\"%s is not in theh list\" % value)\n",
    "        \n",
    "    def remove(self, value):\n",
    "        if self.head.data == value:\n",
    "            self.head = self.head.next\n",
    "        else:\n",
    "            #If the value is anywhere in the list\n",
    "            current = self.head\n",
    "            previous = None\n",
    "            while current:\n",
    "                previous = current\n",
    "                current = current.next\n",
    "                if current.data == value:\n",
    "                    previous.next = current.next\n",
    "                    break\n",
    "        raise ValueError(\"%s is not in the list.\" % value)\n",
    "                \n",
    "    \n",
    "    def find_tail(self):\n",
    "        current = self.head\n",
    "        while current.next:\n",
    "            current = current.next\n",
    "        print(\"Found tail: %s\" % current)\n",
    "        return current\n",
    "    \n",
    "    def search(self, target):\n",
    "        current = self.head\n",
    "        while current:\n",
    "            if current.data == target:\n",
    "                return True\n",
    "            print(\"Saw: %s\" % current)\n",
    "            current = current.next\n",
    "        return False\n",
    "        \n",
    "    def __str__(self):\n",
    "        current = self.head\n",
    "        temp_list = []\n",
    "        while current:\n",
    "            temp_list.append(str(current.data))\n",
    "            current = current.next\n",
    "        return \"[%s]\" % \", \".join(temp_list)\n",
    "            "
   ]
  },
  {
   "cell_type": "code",
   "execution_count": 22,
   "id": "3c616a60",
   "metadata": {},
   "outputs": [
    {
     "name": "stdout",
     "output_type": "stream",
     "text": [
      "Added (HEAD): < Node %r\n",
      "Found tail: < Node %r\n",
      "Added (BODY): < Node %r\n",
      "Found tail: < Node %r\n",
      "Added (BODY): < Node %r\n",
      "Found tail: < Node %r\n",
      "Added (BODY): < Node %r\n",
      "Found tail: < Node %r\n",
      "Added (BODY): < Node %r\n",
      "[0, 1, 2, 3, 4]\n",
      "Saw: < Node %r\n",
      "Saw: < Node %r\n",
      "Saw: < Node %r\n",
      "Saw: < Node %r\n",
      "Is 4 in the linked list? -> True\n",
      "Saw: < Node %r\n",
      "Saw: < Node %r\n",
      "Saw: < Node %r\n",
      "Saw: < Node %r\n",
      "Saw: < Node %r\n",
      "Is 5 in the linked list? -> False\n"
     ]
    }
   ],
   "source": [
    "my_ll = LinkedList()\n",
    "for i in range(5):\n",
    "    my_ll.append(i)\n",
    "    \n",
    "print(my_ll)\n",
    "print(\"Is 4 in the linked list? -> %s\" % my_ll.search(4))\n",
    "print(\"Is 5 in the linked list? -> %s\" % my_ll.search(5))"
   ]
  },
  {
   "cell_type": "code",
   "execution_count": 23,
   "id": "3e000c7f",
   "metadata": {},
   "outputs": [
    {
     "name": "stdout",
     "output_type": "stream",
     "text": [
      "[1, 2, 3]\n",
      "0\n"
     ]
    }
   ],
   "source": [
    "x = [1,2,3]\n",
    "print(x)\n",
    "print(x.index(1))"
   ]
  },
  {
   "cell_type": "code",
   "execution_count": 24,
   "id": "c726ee97",
   "metadata": {},
   "outputs": [],
   "source": [
    "class DNode:\n",
    "    def __init__(self, data):\n",
    "        self.data = data\n",
    "        self.prev = None\n",
    "        self.next = None"
   ]
  },
  {
   "cell_type": "code",
   "execution_count": 27,
   "id": "88446279",
   "metadata": {},
   "outputs": [],
   "source": [
    "class DList:\n",
    "    def __init__(self):\n",
    "        self.head = None\n",
    "        \n",
    "    def insert(self, position, data):\n",
    "        \"\"\" Insert BEFORE givin\"\"\"\n",
    "        if not self.head:\n",
    "            raise IndexError(\"Cannot find position in empty list.\")\n",
    "        if position == 0:\n",
    "            new_node = DNode(data)\n",
    "            new_node.next = self.head\n",
    "            self.head = new_node\n",
    "            new_node.next.prev = self.head\n",
    "        counter = 1\n",
    "        current = self.head.next\n",
    "        while current:\n",
    "            if counter == position:\n",
    "                previous_node = current.prev\n",
    "                new_node = DNode(data)\n",
    "                previous_node.next = new_node\n",
    "                new_node.prev = previous_node\n",
    "                new_node.next = current\n",
    "                current.prev = new_node\n",
    "        raise IndexError(\"Index out of bounds\")"
   ]
  },
  {
   "cell_type": "code",
   "execution_count": 28,
   "id": "f9443a08",
   "metadata": {},
   "outputs": [
    {
     "ename": "NameError",
     "evalue": "name 'Dlist' is not defined",
     "output_type": "error",
     "traceback": [
      "\u001b[0;31m---------------------------------------------------------------------------\u001b[0m",
      "\u001b[0;31mNameError\u001b[0m                                 Traceback (most recent call last)",
      "\u001b[0;32m/tmp/ipykernel_1731/2884590078.py\u001b[0m in \u001b[0;36m<module>\u001b[0;34m\u001b[0m\n\u001b[0;32m----> 1\u001b[0;31m \u001b[0mdlist\u001b[0m \u001b[0;34m=\u001b[0m \u001b[0mDlist\u001b[0m\u001b[0;34m(\u001b[0m\u001b[0;34m)\u001b[0m\u001b[0;34m\u001b[0m\u001b[0;34m\u001b[0m\u001b[0m\n\u001b[0m\u001b[1;32m      2\u001b[0m \u001b[0mdlist\u001b[0m\u001b[0;34m.\u001b[0m\u001b[0mhead\u001b[0m \u001b[0;34m=\u001b[0m \u001b[0mDNode\u001b[0m\u001b[0;34m(\u001b[0m\u001b[0;34m\"A\"\u001b[0m\u001b[0;34m)\u001b[0m\u001b[0;34m\u001b[0m\u001b[0;34m\u001b[0m\u001b[0m\n\u001b[1;32m      3\u001b[0m \u001b[0mdlist\u001b[0m\u001b[0;34m.\u001b[0m\u001b[0minsert\u001b[0m\u001b[0;34m(\u001b[0m\u001b[0;36m0\u001b[0m\u001b[0;34m,\u001b[0m \u001b[0;34m\"B\"\u001b[0m\u001b[0;34m)\u001b[0m\u001b[0;34m\u001b[0m\u001b[0;34m\u001b[0m\u001b[0m\n\u001b[1;32m      4\u001b[0m \u001b[0mdlist\u001b[0m\u001b[0;34m.\u001b[0m\u001b[0minsert\u001b[0m\u001b[0;34m(\u001b[0m\u001b[0;36m0\u001b[0m\u001b[0;34m,\u001b[0m \u001b[0;34m\"C\"\u001b[0m\u001b[0;34m)\u001b[0m\u001b[0;34m\u001b[0m\u001b[0;34m\u001b[0m\u001b[0m\n\u001b[1;32m      5\u001b[0m \u001b[0;34m\u001b[0m\u001b[0m\n",
      "\u001b[0;31mNameError\u001b[0m: name 'Dlist' is not defined"
     ]
    }
   ],
   "source": [
    "dlist = Dlist()\n",
    "dlist.head = DNode(\"A\")\n",
    "dlist.insert(0, \"B\")\n",
    "dlist.insert(0, \"C\")\n",
    "\n",
    "current = dlist.head\n",
    "while current:\n",
    "    print(current.data)\n",
    "    current = current.next"
   ]
  },
  {
   "cell_type": "code",
   "execution_count": null,
   "id": "f226ccbb",
   "metadata": {},
   "outputs": [],
   "source": []
  }
 ],
 "metadata": {
  "kernelspec": {
   "display_name": "Python 3 (ipykernel)",
   "language": "python",
   "name": "python3"
  },
  "language_info": {
   "codemirror_mode": {
    "name": "ipython",
    "version": 3
   },
   "file_extension": ".py",
   "mimetype": "text/x-python",
   "name": "python",
   "nbconvert_exporter": "python",
   "pygments_lexer": "ipython3",
   "version": "3.8.10"
  }
 },
 "nbformat": 4,
 "nbformat_minor": 5
}
